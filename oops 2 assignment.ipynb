{
 "cells": [
  {
   "cell_type": "code",
   "execution_count": 2,
   "id": "3851a453-2869-457d-9106-46ca123cc060",
   "metadata": {},
   "outputs": [],
   "source": [
    "# It is a special method within a class that gets automatically called when an object is created.\n",
    "#It is used to initialize the atributes of the object."
   ]
  },
  {
   "cell_type": "code",
   "execution_count": 5,
   "id": "1707537e-f87c-4bae-b90e-79205d769678",
   "metadata": {},
   "outputs": [
    {
     "name": "stdin",
     "output_type": "stream",
     "text": [
      "enter faculty id 456\n",
      "enter name Anshul\n",
      "enter faculty salary 35000\n"
     ]
    },
    {
     "name": "stdout",
     "output_type": "stream",
     "text": [
      "faculty id: 456\n",
      "faculty name: Anshul\n",
      "faculty salary: 35000.0\n"
     ]
    }
   ],
   "source": [
    "class faculty:\n",
    "    def __init__(self):\n",
    "        self.id = int(input(\"enter faculty id\"))\n",
    "        self.name= input(\"enter name\")\n",
    "        self.salary=float(input(\"enter faculty salary\"))\n",
    "        \n",
    "    def display(self):\n",
    "        print(\"faculty id:\",self.id)\n",
    "        print(\"faculty name:\",self.name)\n",
    "        print(\"faculty salary:\",self.salary)\n",
    "        \n",
    "a=faculty()\n",
    "a.display()\n",
    "        "
   ]
  },
  {
   "cell_type": "code",
   "execution_count": 7,
   "id": "90e7a797-4061-440a-9e21-a71157d818db",
   "metadata": {},
   "outputs": [
    {
     "name": "stdout",
     "output_type": "stream",
     "text": [
      "Hey I am a person\n",
      "Hey I am a person\n",
      "Harry is a Developer\n",
      "Divya is a HR\n"
     ]
    }
   ],
   "source": [
    "class person:\n",
    "    def __init__(self,n,o):\n",
    "        print(\"Hey I am a person\")\n",
    "        self.name = n\n",
    "        self.occ = o\n",
    "        \n",
    "    def info(self):\n",
    "        print(f\"{self.name} is a {self.occ}\")\n",
    "        \n",
    "a=person(\"Harry\",\"Developer\")\n",
    "b=person(\"Divya\",\"HR\")\n",
    "a.info()\n",
    "b.info()"
   ]
  },
  {
   "cell_type": "code",
   "execution_count": 8,
   "id": "07d2102b-5357-4a91-8dff-c2d2831b1c06",
   "metadata": {},
   "outputs": [],
   "source": [
    "# The self parameter is a refrence to the current instance of the class, and is used to access variable that belongs to the class."
   ]
  },
  {
   "cell_type": "code",
   "execution_count": 9,
   "id": "7aece540-256b-4cfd-a74b-41867ce019fb",
   "metadata": {},
   "outputs": [],
   "source": [
    "# A default constructor is a constructor that takes no arguments.It is used to creat an object with default objects."
   ]
  },
  {
   "cell_type": "code",
   "execution_count": 11,
   "id": "7d5c0a34-cfed-4fe7-924f-cf6143288982",
   "metadata": {},
   "outputs": [
    {
     "name": "stdin",
     "output_type": "stream",
     "text": [
      "enter the height of rectangle 4\n",
      "enter the breadth of rectangle 6\n"
     ]
    },
    {
     "name": "stdout",
     "output_type": "stream",
     "text": [
      "Area of Rectangle is : 24\n"
     ]
    }
   ],
   "source": [
    "class rectangle:\n",
    "    def __init__(self, height, breadth):\n",
    "        self.height = height\n",
    "        self.breadth = breadth\n",
    "     \n",
    "    \n",
    "    def area(self):\n",
    "        return(self.height*self.breadth)\n",
    "    \n",
    "l = int(input(\"enter the height of rectangle\"))\n",
    "b = int(input(\"enter the breadth of rectangle\"))\n",
    "\n",
    "r1 = rectangle(l , b)\n",
    "print(\"Area of Rectangle is :\",r1.area())\n",
    "        "
   ]
  },
  {
   "cell_type": "code",
   "execution_count": 12,
   "id": "48788fda-2071-47d0-a533-c0af87ff8477",
   "metadata": {},
   "outputs": [
    {
     "name": "stdout",
     "output_type": "stream",
     "text": [
      "101 Anshul\n",
      "102 John\n"
     ]
    }
   ],
   "source": [
    "class student:\n",
    "    def __init__(self,*args):\n",
    "        if len(args) == 1:\n",
    "            self.roll_number = args[0]\n",
    "            \n",
    "        if len(args) == 2:\n",
    "            self.roll_number = args[0]\n",
    "            self.name = args[1]\n",
    "            \n",
    "            \n",
    "obj1 = student(101 , 'Anshul')\n",
    "print(obj1.roll_number , obj1.name)\n",
    "\n",
    "obj2 = student(102 , 'John')\n",
    "print(obj2.roll_number , obj2.name)"
   ]
  },
  {
   "cell_type": "code",
   "execution_count": 13,
   "id": "987fa24b-9b0e-4a2c-b7cc-97c36e7f5a30",
   "metadata": {},
   "outputs": [],
   "source": [
    "# Two methods in a class have the same name we call method overloading .both the methods having diffrent significance."
   ]
  },
  {
   "cell_type": "code",
   "execution_count": 16,
   "id": "c4ab443b-e3aa-498e-912a-668bbd7f98c7",
   "metadata": {},
   "outputs": [
    {
     "name": "stdout",
     "output_type": "stream",
     "text": [
      "Hello, and Welcome!\n"
     ]
    }
   ],
   "source": [
    "class parent:\n",
    "    def __init__(self, txt):\n",
    "        self.message = txt\n",
    "        \n",
    "    def printmessage(self):\n",
    "        print(self.message)\n",
    "        \n",
    "class child(parent):\n",
    "    def __init__(self, txt):\n",
    "        super().__init__(txt)\n",
    "        \n",
    "        \n",
    "x = child(\"Hello, and Welcome!\")\n",
    "x.printmessage()"
   ]
  },
  {
   "cell_type": "code",
   "execution_count": 17,
   "id": "1b4904d0-0f10-447e-be4e-4396c7646d3c",
   "metadata": {},
   "outputs": [],
   "source": [
    "# The super function is used to give access to methods and pro[erties of a parent or child class. self parameter in the constructor refers \n",
    "# to instance being created and allows you to access and set its atributes."
   ]
  },
  {
   "cell_type": "code",
   "execution_count": 18,
   "id": "960548d3-d837-4433-8f0d-d9fe09ae7d87",
   "metadata": {},
   "outputs": [],
   "source": [
    "# constructor are generally used for instantiating and object.A constructor is a block of code that initializes a newly created object."
   ]
  },
  {
   "cell_type": "code",
   "execution_count": 20,
   "id": "75d4b05b-fa6d-43f9-8d86-ea53fd2e774f",
   "metadata": {},
   "outputs": [
    {
     "name": "stdin",
     "output_type": "stream",
     "text": [
      "enter book id:  567\n",
      "enter book title: he way\n"
     ]
    },
    {
     "name": "stdout",
     "output_type": "stream",
     "text": [
      "book id : 567\n",
      "book title: he way\n",
      "book author: Guido Van Rossum\n"
     ]
    }
   ],
   "source": [
    "class book:\n",
    "    author = 0\n",
    "    def __init__(self, book_id, title , author):\n",
    "        self.book_id = book_id\n",
    "        self.title = title\n",
    "        self.author = author\n",
    "        \n",
    "    def display(self):\n",
    "        print(\"book id :\", self.book_id)\n",
    "        print(\"book title:\", self.title)\n",
    "        print(\"book author:\", self.author)\n",
    "        \n",
    "b1 = int(input(\"enter book id: \"))\n",
    "t = input(\"enter book title:\")\n",
    "\n",
    "\n",
    "object = book(b1 , t, \"Guido Van Rossum\")\n",
    "object.display()\n"
   ]
  },
  {
   "cell_type": "code",
   "execution_count": 22,
   "id": "597e7da1-6353-4d2b-8f68-e632a68fa963",
   "metadata": {},
   "outputs": [
    {
     "name": "stdout",
     "output_type": "stream",
     "text": [
      "I am playing\n",
      "we currently have 11 player.\n"
     ]
    }
   ],
   "source": [
    "class game:\n",
    "    player = 11\n",
    "    \n",
    "    def __init__(self):\n",
    "        print(\"I am playing\")\n",
    "        \n",
    "    def players(self):\n",
    "        print(\"we currently have \"+str(self.player)+\" player.\")\n",
    "        \n",
    "    def __del__(self):\n",
    "        print(\"opbject is deleted\")\n",
    "        \n",
    "        \n",
    "soccer = game()\n",
    "soccer.players()\n",
    "        "
   ]
  },
  {
   "cell_type": "code",
   "execution_count": 24,
   "id": "6f27cee7-aa74-4630-bf2b-e7351d9cd097",
   "metadata": {},
   "outputs": [],
   "source": [
    "# we define a destructor using the __del() method, which simply prints a message to the console  indicating that the object has been \n",
    "#destroyed."
   ]
  },
  {
   "cell_type": "code",
   "execution_count": 26,
   "id": "c6834ceb-a702-4576-95ab-44abb5ef0304",
   "metadata": {},
   "outputs": [
    {
     "name": "stdout",
     "output_type": "stream",
     "text": [
      "it is car base class\n",
      "Name:BMW\n",
      "Price:20000\n"
     ]
    }
   ],
   "source": [
    "class car:\n",
    "    def __init__(self):\n",
    "        self.name = \"I 20\"\n",
    "        self.model = 2000\n",
    "        \n",
    "    def getcardetails(self):\n",
    "        print(\"it is car base class\")\n",
    "        \n",
    "c1 = car()\n",
    "c1.getcardetails()\n",
    "\n",
    "class vehicle:\n",
    "    def __init__(self):\n",
    "        self.name  = \"BMW\"\n",
    "        self.price = 20000\n",
    "        self.colour = 'white'\n",
    "        \n",
    "    def getcardetails(self):\n",
    "        print(f\"Name:{self.name}\")\n",
    "        print(f\"Price:{self.price}\")\n",
    "        \n",
    "v1 = vehicle()\n",
    "v1.getcardetails()\n",
    "    "
   ]
  },
  {
   "cell_type": "code",
   "execution_count": 27,
   "id": "4a060895-75e9-4aba-906e-9e61d76ac6d0",
   "metadata": {},
   "outputs": [],
   "source": [
    "# Simple inheritance is one in which the derived class inherits the single base class either public , private or protected.\n",
    "\n",
    "# Multiple inheritance is an inheritance type where a class inherits from more one base class."
   ]
  },
  {
   "cell_type": "code",
   "execution_count": 28,
   "id": "235b54c3-895b-432c-9cac-ee395e1fa127",
   "metadata": {},
   "outputs": [
    {
     "name": "stdout",
     "output_type": "stream",
     "text": [
      "I like to eat bones\n"
     ]
    }
   ],
   "source": [
    "class animal:\n",
    "    name = \"\"\n",
    "    def eat(self):\n",
    "        print(\"I can eat\")\n",
    "        \n",
    "class dog(animal):\n",
    "    def eat(self):\n",
    "        print (\"I like to eat bones\")\n",
    "        \n",
    "dog1 = dog()\n",
    "dog1.eat()"
   ]
  },
  {
   "cell_type": "code",
   "execution_count": 29,
   "id": "263fa834-2e71-44aa-95c4-7d3ffeb00b4d",
   "metadata": {},
   "outputs": [],
   "source": [
    "# Method overriding in python is the way of letting method of a subclass ovveride the method of a superclass."
   ]
  },
  {
   "cell_type": "code",
   "execution_count": 30,
   "id": "081048a9-6ea9-42dd-91b0-9937f0dd2ffe",
   "metadata": {},
   "outputs": [
    {
     "name": "stdout",
     "output_type": "stream",
     "text": [
      "son class constructor\n",
      "5000\n"
     ]
    }
   ],
   "source": [
    "class father:\n",
    "    def __init__(self):\n",
    "        self.money = 2000\n",
    "        print(\"father class constructor\")\n",
    "        \n",
    "class son(father):\n",
    "    def __init__(self):\n",
    "        self.money = 5000\n",
    "        print(\"son class constructor\")\n",
    "        \n",
    "    def disp(self):\n",
    "        print(self.money)\n",
    "        \n",
    "s = son()\n",
    "s.disp()"
   ]
  },
  {
   "cell_type": "code",
   "execution_count": 31,
   "id": "ec69554d-c9c4-445a-82aa-4d86df76f882",
   "metadata": {},
   "outputs": [],
   "source": [
    "# The isinstance() function returns True if the specific object is of the specified class, otherwise its return false."
   ]
  },
  {
   "cell_type": "code",
   "execution_count": 33,
   "id": "e00bcce4-d52d-43c7-8ca0-0de3ff4c033a",
   "metadata": {},
   "outputs": [
    {
     "name": "stdout",
     "output_type": "stream",
     "text": [
      "False\n"
     ]
    }
   ],
   "source": [
    "class XYZ1:\n",
    "    a =50\n",
    "    \n",
    "class XYZ2:\n",
    "    b=200\n",
    "    \n",
    "x1 = XYZ1()\n",
    "y1 = XYZ2()\n",
    "\n",
    "print(isinstance(y1, XYZ1))\n",
    "\n"
   ]
  },
  {
   "cell_type": "code",
   "execution_count": 34,
   "id": "18b7b07f-60dc-4997-aecd-0ec2462ff7ca",
   "metadata": {},
   "outputs": [],
   "source": [
    "# python issubclasss() function is a builtin function used to check if a subclass of another classor not."
   ]
  },
  {
   "cell_type": "code",
   "execution_count": 35,
   "id": "88fd2254-34fc-419e-87d3-30457c19f6ff",
   "metadata": {},
   "outputs": [],
   "source": [
    "# a class which contains atleast one pure virtual function. we can't declare the object of abstract class."
   ]
  },
  {
   "cell_type": "code",
   "execution_count": 36,
   "id": "32c45750-11f7-49d4-98ad-0eb314f8efd0",
   "metadata": {},
   "outputs": [],
   "source": [
    "from abc import ABC, abstractmethod\n",
    "class pwskills(ABC):\n",
    "    @abstractmethod\n",
    "    def databaseconnect(self):\n",
    "        pass\n",
    "    \n",
    "    @abstractmethod\n",
    "    def checkuserenrollmen(self, user_mailid):\n",
    "        pass"
   ]
  },
  {
   "cell_type": "code",
   "execution_count": 40,
   "id": "19364150-2164-4fae-a40f-a6b606610002",
   "metadata": {},
   "outputs": [
    {
     "name": "stdout",
     "output_type": "stream",
     "text": [
      "this will give me a details about data science student\n",
      "this will give me  details about bigdata student\n"
     ]
    }
   ],
   "source": [
    "class pwskills:\n",
    "    def student(self):\n",
    "        pass\n",
    "    \n",
    "class datascience(pwskills):\n",
    "    def student(self):\n",
    "        print(\"this will give me a details about data science student\")\n",
    "        \n",
    "class bigdata(pwskills):\n",
    "    def student(self):\n",
    "        print(\"this will give me  details about bigdata student\")\n",
    "    \n",
    "Anshul = datascience()\n",
    "Shivani = bigdata()\n",
    "Anshul.student()\n",
    "Shivani.student()\n",
    "\n",
    "pw = pwskills()\n",
    "pw.student()"
   ]
  },
  {
   "cell_type": "code",
   "execution_count": 41,
   "id": "650e8b6b-fb3b-4e80-a8c0-a825ccce3eae",
   "metadata": {},
   "outputs": [],
   "source": [
    "# The diamond problem is an ambiguity that is arisen when there are two classes say B and C that interferance derived from a  single class A."
   ]
  },
  {
   "cell_type": "code",
   "execution_count": 42,
   "id": "827687b9-8e6a-46ea-a3be-183da13461ab",
   "metadata": {},
   "outputs": [],
   "source": [
    "# Is_A is a totally used an inheritance , which can be of two types class inheritance or interface inheritance\n",
    "\n",
    "# Has-A is  simply means the use of inheritance variables that are refrence to other variable."
   ]
  },
  {
   "cell_type": "code",
   "execution_count": 43,
   "id": "b0f3e955-8adc-433f-b654-cd264165e844",
   "metadata": {},
   "outputs": [],
   "source": [
    "# Encapsulation means wrapping of data and method into a single unit.\n",
    "# encapsulation is like a proper implimentation where you wrap method and the data"
   ]
  },
  {
   "cell_type": "code",
   "execution_count": 44,
   "id": "a45bf05f-e23e-4158-bc5a-617f4daaefc1",
   "metadata": {},
   "outputs": [
    {
     "name": "stdout",
     "output_type": "stream",
     "text": [
      "testing\n"
     ]
    }
   ],
   "source": [
    "class student:\n",
    "    def __init__(self):\n",
    "        self.__name=\"\"\n",
    "       \n",
    "    def getname(self):\n",
    "        return self.__name\n",
    "    \n",
    "    def setname(self,name):\n",
    "        self.__name = name\n",
    "        \n",
    "obj = student()\n",
    "obj.setname(\"testing\")\n",
    "name = obj.getname()\n",
    "print(name)"
   ]
  },
  {
   "cell_type": "code",
   "execution_count": 45,
   "id": "7fbe515f-9f03-4c93-8e5c-4883bc45330d",
   "metadata": {},
   "outputs": [],
   "source": [
    "class fruit:\n",
    "    def __init__(self):\n",
    "        self._protected = 'protected'\n",
    "        self.__private = 'private'\n",
    "   \n",
    "\n",
    "\n",
    "    def meth(self):\n",
    "        print(self._protected)\n",
    "        print(self.__private)"
   ]
  },
  {
   "cell_type": "code",
   "execution_count": 46,
   "id": "f77a6520-0dc8-4f85-b8a7-46e6762c184f",
   "metadata": {},
   "outputs": [],
   "source": [
    "class test :\n",
    "    def __init__(self):\n",
    "        self._x = \"sudh\"\n",
    "        self.y = \"kumar\"\n",
    "        self.z = \"pwskills\"\n",
    "        \n",
    "    def __test_math(self):\n",
    "        return \"this is just a test\"\n",
    "    \n",
    "    def access_var(self):\n",
    "        return self._x\n",
    "    \n",
    "    \n",
    "    def update_var(self, data):\n",
    "        self._x = data"
   ]
  },
  {
   "cell_type": "code",
   "execution_count": 47,
   "id": "344477bc-4a0c-4d2b-81dd-b2020b0dd2ea",
   "metadata": {},
   "outputs": [
    {
     "data": {
      "text/plain": [
       "'sudh'"
      ]
     },
     "execution_count": 47,
     "metadata": {},
     "output_type": "execute_result"
    }
   ],
   "source": [
    "t1 = test()\n",
    "t1.access_var()"
   ]
  },
  {
   "cell_type": "code",
   "execution_count": 50,
   "id": "f14b41f7-afd9-4c8c-8197-39bc315f43d1",
   "metadata": {},
   "outputs": [
    {
     "data": {
      "text/plain": [
       "5678"
      ]
     },
     "execution_count": 50,
     "metadata": {},
     "output_type": "execute_result"
    }
   ],
   "source": [
    "class bank:\n",
    "    def __init__(self, account_number , balance):\n",
    "        self._account_number = account_number \n",
    "        self.__balance = balance\n",
    "        \n",
    "    def check_balance(self, password):\n",
    "        if password == \"mysecurepassword\":\n",
    "            return self.__balance\n",
    "        \n",
    "        else:\n",
    "            return \"incorrect password\"\n",
    "        \n",
    "Anshul = bank(1234, 5678)\n",
    "Anshul.check_balance('mysecurepassword')"
   ]
  },
  {
   "cell_type": "code",
   "execution_count": 55,
   "id": "08a121a7-7868-4a62-8ec7-abf33544b119",
   "metadata": {},
   "outputs": [],
   "source": [
    "def test(func):\n",
    "    def inner_test():\n",
    "        print(\"this is the start of my inner test\")\n",
    "        func()\n",
    "        print(\"this is the end of my inner test\")\n",
    "        \n",
    "    return inner_test\n",
    "\n",
    "\n",
    "@test \n",
    "def test1():\n",
    "    print(\"this is my test1\")"
   ]
  },
  {
   "cell_type": "code",
   "execution_count": 58,
   "id": "02eb438e-195b-4edd-9232-7f777a6c2cb7",
   "metadata": {},
   "outputs": [
    {
     "name": "stdout",
     "output_type": "stream",
     "text": [
      "this is the start of my inner test\n",
      "this is my test1\n",
      "this is the end of my inner test\n"
     ]
    }
   ],
   "source": [
    "test1()"
   ]
  },
  {
   "cell_type": "code",
   "execution_count": 59,
   "id": "eea1871b-8413-42e4-8750-569497191a00",
   "metadata": {},
   "outputs": [],
   "source": [
    "#Information hiding = this concept is also often used to hide the internal representation , or state, of an object from the outside. "
   ]
  },
  {
   "cell_type": "code",
   "execution_count": 60,
   "id": "02bd5409-6c1f-4ec2-8b91-2fb29b84fc76",
   "metadata": {},
   "outputs": [],
   "source": [
    "# Mutator method is used to accesss or read and modify data of the variables. This method modify the data in the variable. this is also \n",
    "# called as setter method."
   ]
  },
  {
   "cell_type": "code",
   "execution_count": 61,
   "id": "bf9bc3ec-6242-4525-9c02-c59775e80232",
   "metadata": {},
   "outputs": [],
   "source": [
    "# accessor method is used to access or read data of the variables. this method do not modify the data in the variable . this is also \n",
    "# called as getter method."
   ]
  },
  {
   "cell_type": "code",
   "execution_count": 62,
   "id": "7d1ee140-96fb-435f-bf2a-37b9625e9a9a",
   "metadata": {},
   "outputs": [],
   "source": [
    "# Disadvantage of encapsulation = the length of the code increase drastically in the case of encapsulation "
   ]
  },
  {
   "cell_type": "code",
   "execution_count": 63,
   "id": "be55e389-ffc6-47b8-b1b0-9a8ef9822b2b",
   "metadata": {},
   "outputs": [],
   "source": [
    "# Runtime polymorphism means the function are bind with data at run time or excetution time."
   ]
  },
  {
   "cell_type": "code",
   "execution_count": 64,
   "id": "edc265f1-9417-4e86-ab3f-4c31b920876c",
   "metadata": {},
   "outputs": [],
   "source": [
    "#compile time polymorphism means the functions are bind with data at compile time."
   ]
  },
  {
   "cell_type": "code",
   "execution_count": null,
   "id": "cbf98fa4-e4a5-43f9-a4e4-15f9ba2a9a07",
   "metadata": {},
   "outputs": [],
   "source": [
    "class rectangle:\n",
    "    def __init__(self, length, breadth):\n",
    "        self.length = length\n",
    "        self.breadth = breadth\n",
    "        \n",
    "    def area(self):\n",
    "        return (self.length*self.breadth)\n",
    "    \n",
    "l = int(input(\"enter the length of rectangle: \"))\n",
    "b = int(input(\"enter the breadth of rectangle: \"))\n",
    "\n",
    "r1 = rectangle(l, b)\n"
   ]
  }
 ],
 "metadata": {
  "kernelspec": {
   "display_name": "Python 3 (ipykernel)",
   "language": "python",
   "name": "python3"
  },
  "language_info": {
   "codemirror_mode": {
    "name": "ipython",
    "version": 3
   },
   "file_extension": ".py",
   "mimetype": "text/x-python",
   "name": "python",
   "nbconvert_exporter": "python",
   "pygments_lexer": "ipython3",
   "version": "3.10.8"
  }
 },
 "nbformat": 4,
 "nbformat_minor": 5
}
